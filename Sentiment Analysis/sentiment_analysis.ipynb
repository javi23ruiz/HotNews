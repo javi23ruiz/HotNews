{
 "cells": [
  {
   "cell_type": "markdown",
   "metadata": {},
   "source": [
    "# SENTIMENT ANALYSIS CLASSIFIER\n",
    "\n",
    "#### The goal of this notebook is to create a sentiment analysis for financial news"
   ]
  },
  {
   "cell_type": "code",
   "execution_count": 161,
   "metadata": {},
   "outputs": [],
   "source": [
    "import re \n",
    "import string\n",
    "import collections\n",
    "\n",
    "import numpy as np\n",
    "import pandas as pd\n",
    "pd.set_option('display.max_colwidth', 1400)\n",
    "import matplotlib.pyplot as plt\n",
    "import seaborn as sns\n",
    "\n",
    "##\n",
    "import nltk\n",
    "from nltk.tokenize import word_tokenize  \n",
    "from nltk.corpus import stopwords  \n",
    "\n",
    "%matplotlib inline"
   ]
  },
  {
   "cell_type": "markdown",
   "metadata": {},
   "source": [
    "## 1. Import Data"
   ]
  },
  {
   "cell_type": "code",
   "execution_count": 125,
   "metadata": {},
   "outputs": [],
   "source": [
    "df = pd.read_csv('data/data/all-data.csv', names=['sentiment', 'article_text'])\n",
    "df = df[['article_text', 'sentiment']]"
   ]
  },
  {
   "cell_type": "code",
   "execution_count": 126,
   "metadata": {},
   "outputs": [
    {
     "name": "stdout",
     "output_type": "stream",
     "text": [
      "Number of articles: 4846\n"
     ]
    }
   ],
   "source": [
    "df.shape\n",
    "print(f\"Number of articles: {df.shape[0]}\")"
   ]
  },
  {
   "cell_type": "code",
   "execution_count": 127,
   "metadata": {},
   "outputs": [
    {
     "data": {
      "text/html": [
       "<div>\n",
       "<style scoped>\n",
       "    .dataframe tbody tr th:only-of-type {\n",
       "        vertical-align: middle;\n",
       "    }\n",
       "\n",
       "    .dataframe tbody tr th {\n",
       "        vertical-align: top;\n",
       "    }\n",
       "\n",
       "    .dataframe thead th {\n",
       "        text-align: right;\n",
       "    }\n",
       "</style>\n",
       "<table border=\"1\" class=\"dataframe\">\n",
       "  <thead>\n",
       "    <tr style=\"text-align: right;\">\n",
       "      <th></th>\n",
       "      <th>article_text</th>\n",
       "      <th>sentiment</th>\n",
       "    </tr>\n",
       "  </thead>\n",
       "  <tbody>\n",
       "    <tr>\n",
       "      <th>0</th>\n",
       "      <td>According to Gran , the company has no plans to move all production to Russia , although that is where the company is growing .</td>\n",
       "      <td>neutral</td>\n",
       "    </tr>\n",
       "    <tr>\n",
       "      <th>1</th>\n",
       "      <td>Technopolis plans to develop in stages an area of no less than 100,000 square meters in order to host companies working in computer technologies and telecommunications , the statement said .</td>\n",
       "      <td>neutral</td>\n",
       "    </tr>\n",
       "    <tr>\n",
       "      <th>2</th>\n",
       "      <td>The international electronic industry company Elcoteq has laid off tens of employees from its Tallinn facility ; contrary to earlier layoffs the company contracted the ranks of its office workers , the daily Postimees reported .</td>\n",
       "      <td>negative</td>\n",
       "    </tr>\n",
       "    <tr>\n",
       "      <th>3</th>\n",
       "      <td>With the new production plant the company would increase its capacity to meet the expected increase in demand and would improve the use of raw materials and therefore increase the production profitability .</td>\n",
       "      <td>positive</td>\n",
       "    </tr>\n",
       "    <tr>\n",
       "      <th>4</th>\n",
       "      <td>According to the company 's updated strategy for the years 2009-2012 , Basware targets a long-term net sales growth in the range of 20 % -40 % with an operating profit margin of 10 % -20 % of net sales .</td>\n",
       "      <td>positive</td>\n",
       "    </tr>\n",
       "    <tr>\n",
       "      <th>5</th>\n",
       "      <td>FINANCING OF ASPOCOMP 'S GROWTH Aspocomp is aggressively pursuing its growth strategy by increasingly focusing on technologically more demanding HDI printed circuit boards PCBs .</td>\n",
       "      <td>positive</td>\n",
       "    </tr>\n",
       "    <tr>\n",
       "      <th>6</th>\n",
       "      <td>For the last quarter of 2010 , Componenta 's net sales doubled to EUR131m from EUR76m for the same period a year earlier , while it moved to a zero pre-tax profit from a pre-tax loss of EUR7m .</td>\n",
       "      <td>positive</td>\n",
       "    </tr>\n",
       "    <tr>\n",
       "      <th>7</th>\n",
       "      <td>In the third quarter of 2010 , net sales increased by 5.2 % to EUR 205.5 mn , and operating profit by 34.9 % to EUR 23.5 mn .</td>\n",
       "      <td>positive</td>\n",
       "    </tr>\n",
       "    <tr>\n",
       "      <th>8</th>\n",
       "      <td>Operating profit rose to EUR 13.1 mn from EUR 8.7 mn in the corresponding period in 2007 representing 7.7 % of net sales .</td>\n",
       "      <td>positive</td>\n",
       "    </tr>\n",
       "    <tr>\n",
       "      <th>9</th>\n",
       "      <td>Operating profit totalled EUR 21.1 mn , up from EUR 18.6 mn in 2007 , representing 9.7 % of net sales .</td>\n",
       "      <td>positive</td>\n",
       "    </tr>\n",
       "  </tbody>\n",
       "</table>\n",
       "</div>"
      ],
      "text/plain": [
       "                                                                                                                                                                                                                           article_text sentiment\n",
       "0                                                                                                       According to Gran , the company has no plans to move all production to Russia , although that is where the company is growing .   neutral\n",
       "1                                        Technopolis plans to develop in stages an area of no less than 100,000 square meters in order to host companies working in computer technologies and telecommunications , the statement said .   neutral\n",
       "2  The international electronic industry company Elcoteq has laid off tens of employees from its Tallinn facility ; contrary to earlier layoffs the company contracted the ranks of its office workers , the daily Postimees reported .  negative\n",
       "3                        With the new production plant the company would increase its capacity to meet the expected increase in demand and would improve the use of raw materials and therefore increase the production profitability .  positive\n",
       "4                           According to the company 's updated strategy for the years 2009-2012 , Basware targets a long-term net sales growth in the range of 20 % -40 % with an operating profit margin of 10 % -20 % of net sales .  positive\n",
       "5                                                    FINANCING OF ASPOCOMP 'S GROWTH Aspocomp is aggressively pursuing its growth strategy by increasingly focusing on technologically more demanding HDI printed circuit boards PCBs .  positive\n",
       "6                                     For the last quarter of 2010 , Componenta 's net sales doubled to EUR131m from EUR76m for the same period a year earlier , while it moved to a zero pre-tax profit from a pre-tax loss of EUR7m .  positive\n",
       "7                                                                                                         In the third quarter of 2010 , net sales increased by 5.2 % to EUR 205.5 mn , and operating profit by 34.9 % to EUR 23.5 mn .  positive\n",
       "8                                                                                                            Operating profit rose to EUR 13.1 mn from EUR 8.7 mn in the corresponding period in 2007 representing 7.7 % of net sales .  positive\n",
       "9                                                                                                                               Operating profit totalled EUR 21.1 mn , up from EUR 18.6 mn in 2007 , representing 9.7 % of net sales .  positive"
      ]
     },
     "execution_count": 127,
     "metadata": {},
     "output_type": "execute_result"
    }
   ],
   "source": [
    "df.head(10)"
   ]
  },
  {
   "cell_type": "code",
   "execution_count": 128,
   "metadata": {},
   "outputs": [
    {
     "data": {
      "text/plain": [
       "neutral     2879\n",
       "positive    1363\n",
       "negative     604\n",
       "Name: sentiment, dtype: int64"
      ]
     },
     "execution_count": 128,
     "metadata": {},
     "output_type": "execute_result"
    }
   ],
   "source": [
    "df['sentiment'].value_counts()"
   ]
  },
  {
   "cell_type": "code",
   "execution_count": 129,
   "metadata": {},
   "outputs": [
    {
     "data": {
      "text/plain": [
       "<AxesSubplot:xlabel='sentiment', ylabel='count'>"
      ]
     },
     "execution_count": 129,
     "metadata": {},
     "output_type": "execute_result"
    },
    {
     "data": {
      "image/png": "[encoded data removed]",
      "text/plain": [
       "<Figure size 576x432 with 1 Axes>"
      ]
     },
     "metadata": {
      "needs_background": "light"
     },
     "output_type": "display_data"
    }
   ],
   "source": [
    "plt.figure(figsize=(8,6))\n",
    "sns.countplot(x=\"sentiment\", data=df)"
   ]
  },
  {
   "cell_type": "code",
   "execution_count": null,
   "metadata": {},
   "outputs": [],
   "source": []
  },
  {
   "cell_type": "markdown",
   "metadata": {},
   "source": [
    "## 2. Preprocess Text\n",
    "\n",
    "- Remove digits\n",
    "- Remove stopwords\n",
    "- Remove special characters\n",
    "- Lowercase strings"
   ]
  },
  {
   "cell_type": "code",
   "execution_count": 130,
   "metadata": {},
   "outputs": [
    {
     "name": "stdout",
     "output_type": "stream",
     "text": [
      "{'weren', 'm', 'shouldn', 'his', 'theirs', 'between', 'so', 'where', 'its', 'don', 'ourselves', 'him', 'because', 'itself', 'once', 'he', 'and', 'until', 'such', 'own', 'wasn', 'her', 'from', 'my', 'being', 'over', 'himself', 'for', 'y', \"you've\", 'will', 'whom', \"mightn't\", 'below', 'did', 'herself', 'further', 'their', 'or', 'yourselves', 'll', 'are', \"hadn't\", 'off', 'when', 'your', \"aren't\", 'an', 'both', \"she's\", 'some', 'should', 's', 're', 'all', 'too', 'against', \"couldn't\", 'is', 'only', 'mightn', \"you're\", 'had', \"didn't\", 'other', 'does', \"should've\", 'do', 'with', 'yours', 'nor', 'hasn', 'hadn', 'out', 'same', 'having', 'how', 'd', 'it', 'yourself', 'in', 'have', 'any', 'if', 'haven', 'myself', 'doesn', 'couldn', 'down', 'themselves', 'o', 'was', 'up', 'be', \"shouldn't\", \"it's\", \"doesn't\", 'mustn', \"mustn't\", 'am', 'who', \"you'd\", 'while', 'they', 'those', 'than', \"won't\", 'she', 'into', 'no', 'needn', 'about', 'each', 'before', 'why', 'this', \"needn't\", 'them', 'through', 'few', 'most', 'a', 'which', 'very', 'just', 'here', 'didn', 'you', 'on', 'i', 'now', \"wasn't\", 'these', 'above', 'shan', 'there', 'can', 'that', 'hers', 'were', 'during', \"that'll\", 'has', \"haven't\", \"isn't\", 'after', \"don't\", 'ma', 'again', \"shan't\", 'doing', 'wouldn', 'been', 'we', 'not', 'under', 'ours', \"you'll\", 'as', 'what', 'won', 'isn', \"wouldn't\", \"weren't\", 'the', 'more', 'ain', 'at', 'me', 'but', \"hasn't\", 've', 'then', 'of', 'aren', 'our', 'to', 'by', 't'}\n"
     ]
    }
   ],
   "source": [
    "try:\n",
    "    stop_words = set(stopwords.words('english')) \n",
    "    print(stop_words)\n",
    "except: \n",
    "    nltk.download('stopwords')"
   ]
  },
  {
   "cell_type": "code",
   "execution_count": 134,
   "metadata": {},
   "outputs": [],
   "source": [
    "def preprocess_text(text, stop_words):\n",
    "    #remove digits\n",
    "    text = re.sub(r'[0-9]+', '', text)\n",
    "    #remove special characters\n",
    "    special_character = string.punctuation\n",
    "    for char in special_character:\n",
    "        text = text.replace(char, '')\n",
    "    text = text.strip()\n",
    "    ##tokenize and remove stopwords\n",
    "    word_tokens = word_tokenize(text)  \n",
    "    text_tokens = [w for w in word_tokens if not w in stop_words]\n",
    "    clean_text = ' '.join(text_tokens)\n",
    "        \n",
    "    return clean_text.lower()"
   ]
  },
  {
   "cell_type": "code",
   "execution_count": 135,
   "metadata": {},
   "outputs": [],
   "source": [
    "df['article_text_clean'] = df['article_text'].apply(lambda x: preprocess_text(x, stop_words))"
   ]
  },
  {
   "cell_type": "code",
   "execution_count": 139,
   "metadata": {},
   "outputs": [
    {
     "data": {
      "text/html": [
       "<div>\n",
       "<style scoped>\n",
       "    .dataframe tbody tr th:only-of-type {\n",
       "        vertical-align: middle;\n",
       "    }\n",
       "\n",
       "    .dataframe tbody tr th {\n",
       "        vertical-align: top;\n",
       "    }\n",
       "\n",
       "    .dataframe thead th {\n",
       "        text-align: right;\n",
       "    }\n",
       "</style>\n",
       "<table border=\"1\" class=\"dataframe\">\n",
       "  <thead>\n",
       "    <tr style=\"text-align: right;\">\n",
       "      <th></th>\n",
       "      <th>article_text</th>\n",
       "      <th>sentiment</th>\n",
       "      <th>article_text_clean</th>\n",
       "    </tr>\n",
       "  </thead>\n",
       "  <tbody>\n",
       "    <tr>\n",
       "      <th>4841</th>\n",
       "      <td>LONDON MarketWatch -- Share prices ended lower in London Monday as a rebound in bank stocks failed to offset broader weakness for the FTSE 100 .</td>\n",
       "      <td>negative</td>\n",
       "      <td>london marketwatch share prices ended lower london monday rebound bank stocks failed offset broader weakness ftse</td>\n",
       "    </tr>\n",
       "    <tr>\n",
       "      <th>4842</th>\n",
       "      <td>Rinkuskiai 's beer sales fell by 6.5 per cent to 4.16 million litres , while Kauno Alus ' beer sales jumped by 6.9 per cent to 2.48 million litres .</td>\n",
       "      <td>neutral</td>\n",
       "      <td>rinkuskiai beer sales fell per cent million litres kauno alus beer sales jumped per cent million litres</td>\n",
       "    </tr>\n",
       "    <tr>\n",
       "      <th>4843</th>\n",
       "      <td>Operating profit fell to EUR 35.4 mn from EUR 68.8 mn in 2007 , including vessel sales gain of EUR 12.3 mn .</td>\n",
       "      <td>negative</td>\n",
       "      <td>operating profit fell eur mn eur mn including vessel sales gain eur mn</td>\n",
       "    </tr>\n",
       "    <tr>\n",
       "      <th>4844</th>\n",
       "      <td>Net sales of the Paper segment decreased to EUR 221.6 mn in the second quarter of 2009 from EUR 241.1 mn in the second quarter of 2008 , while operating profit excluding non-recurring items rose to EUR 8.0 mn from EUR 7.6 mn .</td>\n",
       "      <td>negative</td>\n",
       "      <td>net sales paper segment decreased eur mn second quarter eur mn second quarter operating profit excluding nonrecurring items rose eur mn eur mn</td>\n",
       "    </tr>\n",
       "    <tr>\n",
       "      <th>4845</th>\n",
       "      <td>Sales in Finland decreased by 10.5 % in January , while sales outside Finland dropped by 17 % .</td>\n",
       "      <td>negative</td>\n",
       "      <td>sales finland decreased january sales outside finland dropped</td>\n",
       "    </tr>\n",
       "  </tbody>\n",
       "</table>\n",
       "</div>"
      ],
      "text/plain": [
       "                                                                                                                                                                                                                            article_text sentiment                                                                                                                              article_text_clean\n",
       "4841                                                                                    LONDON MarketWatch -- Share prices ended lower in London Monday as a rebound in bank stocks failed to offset broader weakness for the FTSE 100 .  negative                               london marketwatch share prices ended lower london monday rebound bank stocks failed offset broader weakness ftse\n",
       "4842                                                                                Rinkuskiai 's beer sales fell by 6.5 per cent to 4.16 million litres , while Kauno Alus ' beer sales jumped by 6.9 per cent to 2.48 million litres .   neutral                                         rinkuskiai beer sales fell per cent million litres kauno alus beer sales jumped per cent million litres\n",
       "4843                                                                                                                        Operating profit fell to EUR 35.4 mn from EUR 68.8 mn in 2007 , including vessel sales gain of EUR 12.3 mn .  negative                                                                          operating profit fell eur mn eur mn including vessel sales gain eur mn\n",
       "4844  Net sales of the Paper segment decreased to EUR 221.6 mn in the second quarter of 2009 from EUR 241.1 mn in the second quarter of 2008 , while operating profit excluding non-recurring items rose to EUR 8.0 mn from EUR 7.6 mn .  negative  net sales paper segment decreased eur mn second quarter eur mn second quarter operating profit excluding nonrecurring items rose eur mn eur mn\n",
       "4845                                                                                                                                     Sales in Finland decreased by 10.5 % in January , while sales outside Finland dropped by 17 % .  negative                                                                                   sales finland decreased january sales outside finland dropped"
      ]
     },
     "execution_count": 139,
     "metadata": {},
     "output_type": "execute_result"
    }
   ],
   "source": [
    "df.tail()"
   ]
  },
  {
   "cell_type": "code",
   "execution_count": 138,
   "metadata": {},
   "outputs": [],
   "source": [
    "# Analyze the most frequent words of each category with the clean text"
   ]
  },
  {
   "cell_type": "code",
   "execution_count": 169,
   "metadata": {},
   "outputs": [],
   "source": [
    "def plot_most_frequent_words_per_category(sentiment, plot=True):\n",
    "    df_sentiment = df[df['sentiment'] == sentiment].reset_index(drop=True)\n",
    "    sentiment_array = list(np.array(df_sentiment['article_text_clean']))\n",
    "    #concatenate all the text\n",
    "    sentiment_text = ' '.join(sentiment_array)\n",
    "    sentiment_tokens = word_tokenize(sentiment_text)\n",
    "    counter_sentiment = collections.Counter(sentiment_tokens)\n",
    "    most_frequent = counter_sentiment.most_common(20)\n",
    "    print(most_frequent)\n",
    "    words = [word[0] for word in most_frequent]\n",
    "    frequency = [word[1] for word in most_frequent]\n",
    "    \n",
    "    if plot:\n",
    "        \n",
    "    pass"
   ]
  },
  {
   "cell_type": "code",
   "execution_count": 172,
   "metadata": {},
   "outputs": [
    {
     "name": "stdout",
     "output_type": "stream",
     "text": [
      "[('the', 969), ('company', 508), ('eur', 315), ('said', 237), ('finland', 219), ('finnish', 215), ('million', 193), ('business', 190), ('group', 187), ('new', 179), ('sales', 163), ('shares', 163), ('services', 151), ('also', 145), ('share', 139), ('market', 131), ('in', 114), ('net', 112), ('total', 100), ('helsinki', 95)]\n"
     ]
    }
   ],
   "source": [
    "plot_most_frequent_words_per_category('neutral')"
   ]
  },
  {
   "cell_type": "code",
   "execution_count": 168,
   "metadata": {},
   "outputs": [
    {
     "name": "stdout",
     "output_type": "stream",
     "text": [
      "[('eur', 595), ('the', 280), ('mn', 262), ('company', 240), ('said', 230), ('finnish', 198), ('net', 196), ('sales', 192), ('profit', 191), ('million', 170), ('year', 143), ('period', 139), ('mln', 128), ('operating', 122), ('quarter', 107), ('oyj', 97), ('group', 96), ('rose', 94), ('increased', 89), ('new', 82)]\n"
     ]
    }
   ],
   "source": [
    "df_positive = df[df['sentiment'] == 'positive'].reset_index(drop=True)\n",
    "positive_array = list(np.array(df_positive['article_text_clean']))\n",
    "#concatenate all the text\n",
    "positive_text = ' '.join(positive_array)\n",
    "positive_tokens = word_tokenize(positive_text)\n",
    "counter_positive = collections.Counter(positive_tokens)\n",
    "most_frequent = counter_positive.most_common(20)\n",
    "print(most_frequent)"
   ]
  },
  {
   "cell_type": "code",
   "execution_count": 180,
   "metadata": {},
   "outputs": [
    {
     "data": {
      "text/plain": [
       "<matplotlib.collections.PathCollection at 0x7f987aa1dd50>"
      ]
     },
     "execution_count": 180,
     "metadata": {},
     "output_type": "execute_result"
    },
    {
     "data": {
      "image/png": "[encoded data removed]",
      "text/plain": [
       "<Figure size 432x288 with 1 Axes>"
      ]
     },
     "metadata": {
      "needs_background": "light"
     },
     "output_type": "display_data"
    }
   ],
   "source": [
    "words = [word[0] for word in most_frequent]\n",
    "frequency = [word[1] for word in most_frequent]\n",
    "\n",
    "plt.scatter(x=words, y=frequency)"
   ]
  },
  {
   "cell_type": "code",
   "execution_count": null,
   "metadata": {},
   "outputs": [],
   "source": []
  }
 ],
 "metadata": {
  "kernelspec": {
   "display_name": "company",
   "language": "python",
   "name": "company"
  },
  "language_info": {
   "codemirror_mode": {
    "name": "ipython",
    "version": 3
   },
   "file_extension": ".py",
   "mimetype": "text/x-python",
   "name": "python",
   "nbconvert_exporter": "python",
   "pygments_lexer": "ipython3",
   "version": "3.7.9"
  }
 },
 "nbformat": 4,
 "nbformat_minor": 4
}
